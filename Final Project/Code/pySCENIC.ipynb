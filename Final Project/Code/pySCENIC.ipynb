{
 "cells": [
  {
   "cell_type": "code",
   "execution_count": 1,
   "metadata": {},
   "outputs": [
    {
     "name": "stdout",
     "output_type": "stream",
     "text": [
      "^C\n",
      "Note: you may need to restart the kernel to use updated packages.\n"
     ]
    }
   ],
   "source": [
    "pip install pyscenic"
   ]
  },
  {
   "cell_type": "code",
   "execution_count": null,
   "metadata": {},
   "outputs": [],
   "source": [
    "import os\n",
    "import glob\n",
    "import pickle\n",
    "import pandas as pd\n",
    "import numpy as np\n",
    "\n",
    "from dask.diagnostics import ProgressBar\n",
    "\n",
    "from arboreto.utils import load_tf_names\n",
    "from arboreto.algo import grnboost2\n",
    "\n",
    "from ctxcore.rnkdb import FeatherRankingDatabase as RankingDatabase\n",
    "from pyscenic.utils import modules_from_adjacencies, load_motifs\n",
    "from pyscenic.prune import prune2df, df2regulons\n",
    "from pyscenic.aucell import aucell\n",
    "\n",
    "import seaborn as sns"
   ]
  },
  {
   "cell_type": "code",
   "execution_count": null,
   "metadata": {},
   "outputs": [],
   "source": [
    "DATA_FOLDER=\"~/tmp\"\n",
    "RESOURCES_FOLDER=\"~/resources\"\n",
    "DATABASE_FOLDER = \"~/databases/\"\n",
    "SCHEDULER=\"123.122.8.24:8786\"\n",
    "DATABASES_GLOB = os.path.join(DATABASE_FOLDER, \"mm9-*.mc9nr.genes_vs_motifs.rankings.feather\")\n",
    "MOTIF_ANNOTATIONS_FNAME = os.path.join(RESOURCES_FOLDER, \"motifs-v9-nr.mgi-m0.001-o0.0.tbl\")\n",
    "MM_TFS_FNAME = os.path.join(RESOURCES_FOLDER, 'mm_tfs.txt')\n",
    "SC_EXP_FNAME = os.path.join(RESOURCES_FOLDER, \"GSE60361_C1-3005-Expression.txt\")\n",
    "REGULONS_FNAME = os.path.join(DATA_FOLDER, \"regulons.p\")\n",
    "MOTIFS_FNAME = os.path.join(DATA_FOLDER, \"motifs.csv\")"
   ]
  }
 ],
 "metadata": {
  "kernelspec": {
   "display_name": "jupyter",
   "language": "python",
   "name": "python3"
  },
  "language_info": {
   "codemirror_mode": {
    "name": "ipython",
    "version": 3
   },
   "file_extension": ".py",
   "mimetype": "text/x-python",
   "name": "python",
   "nbconvert_exporter": "python",
   "pygments_lexer": "ipython3",
   "version": "3.11.5"
  }
 },
 "nbformat": 4,
 "nbformat_minor": 2
}
